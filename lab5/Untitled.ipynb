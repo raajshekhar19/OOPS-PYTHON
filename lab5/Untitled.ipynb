{
 "cells": [
  {
   "cell_type": "markdown",
   "id": "a58664de-c6db-40e9-aa9f-064e30c7b8ce",
   "metadata": {},
   "source": [
    "# Write a Python program to triple all numbers in a given list of integers. Use Python map. "
   ]
  },
  {
   "cell_type": "code",
   "execution_count": 4,
   "id": "82d55134-9863-4290-a570-64f438e10661",
   "metadata": {},
   "outputs": [
    {
     "name": "stdout",
     "output_type": "stream",
     "text": [
      "[3, 6, 9, 12]\n"
     ]
    }
   ],
   "source": [
    "arr = [1,2,3,4]\n",
    "new_list = list(map(lambda x: x*3,arr))\n",
    "print(new_list)"
   ]
  },
  {
   "cell_type": "markdown",
   "id": "968e0c55-dc93-4adb-bd9a-590dd517a482",
   "metadata": {},
   "source": [
    "# Write a Python program to add three given lists using Python map and lambda."
   ]
  },
  {
   "cell_type": "code",
   "execution_count": 11,
   "id": "7293f0f5-e55d-4d47-beb8-8f09ef4747f7",
   "metadata": {},
   "outputs": [
    {
     "name": "stdout",
     "output_type": "stream",
     "text": [
      "[3, 6, 9]\n"
     ]
    }
   ],
   "source": [
    "list1 = [1,2,3,4,5]\n",
    "list2 = [1,2,3]\n",
    "list3 = [1,2,3,4]\n",
    "\n",
    "new_list = list(map(lambda x,y,z: x+y+z,list1,list2,list3))\n",
    "print(new_list)"
   ]
  },
  {
   "cell_type": "markdown",
   "id": "072db75e-dd2c-4574-8f19-13bffc36ff97",
   "metadata": {},
   "source": [
    "# Listify the list of given strings individually using map."
   ]
  },
  {
   "cell_type": "code",
   "execution_count": 28,
   "id": "f2fb6ac3-7bad-46da-8eb3-31a55b32a320",
   "metadata": {},
   "outputs": [
    {
     "name": "stdout",
     "output_type": "stream",
     "text": [
      "[['h', 'i', 'i'], ['b', 'y', 'e', 'e']]\n"
     ]
    }
   ],
   "source": [
    "string_set = [\"hii\",\"byee\"]\n",
    "new_set = list(map(list,string_set))\n",
    "print(new_set)"
   ]
  },
  {
   "cell_type": "markdown",
   "id": "6e08dd7b-f732-4368-96aa-8fd5071c124c",
   "metadata": {},
   "source": [
    "# Create a list containing the power of a number in bases raised to the corresponding number in the index using map."
   ]
  },
  {
   "cell_type": "code",
   "execution_count": 33,
   "id": "6ddb047a-fc9a-441a-abc6-36ca15fed262",
   "metadata": {},
   "outputs": [
    {
     "name": "stdout",
     "output_type": "stream",
     "text": [
      "[1, 2, 9, 64]\n"
     ]
    }
   ],
   "source": [
    "arr= [1,2,3,4]\n",
    "\n",
    "new_arr = list(map(pow,arr,range(len(arr))))\n",
    "print(new_arr)"
   ]
  },
  {
   "cell_type": "markdown",
   "id": "9de8a7f0-7550-4329-ba6e-870e510a7ad4",
   "metadata": {},
   "source": [
    "# Square the elements of a list using map."
   ]
  },
  {
   "cell_type": "code",
   "execution_count": 36,
   "id": "8b1b3560-8995-4209-926b-9efc3142d3f8",
   "metadata": {},
   "outputs": [
    {
     "name": "stdout",
     "output_type": "stream",
     "text": [
      "[1, 4, 9, 16]\n"
     ]
    }
   ],
   "source": [
    "arr = [1,2,3,4]\n",
    "arr = list(map(lambda x : x*x,arr))\n",
    "print(arr)"
   ]
  },
  {
   "cell_type": "markdown",
   "id": "09b51c63-8e64-4129-8f34-5f590a2b3243",
   "metadata": {},
   "source": [
    "# Convert all characters into uppercase and lowercase and eliminate duplicate letters from a given sequence using map."
   ]
  },
  {
   "cell_type": "code",
   "execution_count": 51,
   "id": "f508cd7b-3c0a-4e48-8c84-cb25ca02d207",
   "metadata": {},
   "outputs": [
    {
     "name": "stdout",
     "output_type": "stream",
     "text": [
      "ABC\n"
     ]
    }
   ],
   "source": [
    "arr = 'CcAaBb'\n",
    "new_arr = set(arr)\n",
    "new_arr = \"\".join(set(map(lambda ch : ch.upper(),new_arr)))\n",
    "print(new_arr)"
   ]
  },
  {
   "cell_type": "markdown",
   "id": "d399bda8-adb0-4e29-9039-6c1693ec6265",
   "metadata": {
    "jp-MarkdownHeadingCollapsed": true
   },
   "source": [
    "#  Add two given lists and find the difference between them using map."
   ]
  },
  {
   "cell_type": "code",
   "execution_count": 56,
   "id": "6fb62f06-bba5-4540-af0c-6b99eea60387",
   "metadata": {},
   "outputs": [
    {
     "ename": "NameError",
     "evalue": "name 'sublst' is not defined",
     "output_type": "error",
     "traceback": [
      "\u001b[1;31m---------------------------------------------------------------------------\u001b[0m",
      "\u001b[1;31mNameError\u001b[0m                                 Traceback (most recent call last)",
      "Cell \u001b[1;32mIn[56], line 5\u001b[0m\n\u001b[0;32m      3\u001b[0m addlst \u001b[38;5;241m=\u001b[39m \u001b[38;5;28mlist\u001b[39m(\u001b[38;5;28mmap\u001b[39m(\u001b[38;5;28;01mlambda\u001b[39;00m x,y: x\u001b[38;5;241m+\u001b[39my,arr1,arr2))\n\u001b[0;32m      4\u001b[0m sublist \u001b[38;5;241m=\u001b[39m \u001b[38;5;28mlist\u001b[39m(\u001b[38;5;28mlist\u001b[39m(\u001b[38;5;28mmap\u001b[39m(\u001b[38;5;28;01mlambda\u001b[39;00m x,y: x\u001b[38;5;241m-\u001b[39my,arr1,arr2)))\n\u001b[1;32m----> 5\u001b[0m \u001b[38;5;28mprint\u001b[39m(addlst,sublst)\n",
      "\u001b[1;31mNameError\u001b[0m: name 'sublst' is not defined"
     ]
    }
   ],
   "source": [
    "arr1 = [1,2,3,4]\n",
    "arr2 = [0,1,2,3]\n",
    "addlst = list(map(lambda x,y: x+y,arr1,arr2))\n",
    "sublist = list(list(map(lambda x,y: x-y,arr1,arr2)))\n",
    "print(addlst,sublst)"
   ]
  },
  {
   "cell_type": "code",
   "execution_count": null,
   "id": "59c3ce6c-0e46-4e00-bc07-56655d796967",
   "metadata": {},
   "outputs": [],
   "source": []
  }
 ],
 "metadata": {
  "kernelspec": {
   "display_name": "Python 3 (ipykernel)",
   "language": "python",
   "name": "python3"
  },
  "language_info": {
   "codemirror_mode": {
    "name": "ipython",
    "version": 3
   },
   "file_extension": ".py",
   "mimetype": "text/x-python",
   "name": "python",
   "nbconvert_exporter": "python",
   "pygments_lexer": "ipython3",
   "version": "3.12.4"
  }
 },
 "nbformat": 4,
 "nbformat_minor": 5
}
