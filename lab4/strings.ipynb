{
 "cells": [
  {
   "cell_type": "markdown",
   "id": "2fadad0a-9ff2-415f-a3d2-fbcea69789c4",
   "metadata": {},
   "source": [
    "# . To separate the following string into comma (,) separated values. X= “ India.is.my.country"
   ]
  },
  {
   "cell_type": "code",
   "execution_count": 18,
   "id": "97fc7423-e4a0-4756-bd9b-fbfff43d917d",
   "metadata": {},
   "outputs": [
    {
     "name": "stdout",
     "output_type": "stream",
     "text": [
      "India,is,my,country\n"
     ]
    }
   ],
   "source": [
    "string =  \"India.is.my.country\"\n",
    "ans = string.split(\".\")\n",
    "fin_ans = \",\".join(ans)\n",
    "print(fin_ans)\n",
    "\"\"\"\n",
    "syntax for split-> new_str = str.split(\"char\")\n",
    "synatx for join->new_str = (\"char to join\").join(string)\n",
    "\n",
    "\"\"\"\n"
   ]
  },
  {
   "cell_type": "markdown",
   "id": "5d87f138-d94d-40f2-a898-a9aa4016d954",
   "metadata": {},
   "source": [
    "# B. To remove a given character from a string. Y=”M.A.N.I.P.A.L”"
   ]
  },
  {
   "cell_type": "code",
   "execution_count": 25,
   "id": "bef6782b-e827-4b6d-a92e-1cbdfe808aa7",
   "metadata": {},
   "outputs": [
    {
     "name": "stdin",
     "output_type": "stream",
     "text": [
      "Enter the character to replace.. ,\n"
     ]
    },
    {
     "name": "stdout",
     "output_type": "stream",
     "text": [
      "M.A.N.I.P.A.L\n"
     ]
    }
   ],
   "source": [
    "string = \"M.A.N.I.P.A.L\"\n",
    "char_to_replace = input(\"Enter the character to replace..\")\n",
    "new_string = string.replace(char_to_replace,'')\n",
    "print(new_string)\n",
    "# new_str = str.replace(\"old\",\"new\")\n"
   ]
  },
  {
   "cell_type": "markdown",
   "id": "8c2fe434-1554-48eb-80d4-0880e3856a5f",
   "metadata": {},
   "source": [
    "# Take an input from a user as a string then, reverse it."
   ]
  },
  {
   "cell_type": "code",
   "execution_count": 34,
   "id": "46332f17-77aa-43f4-b652-46e5753811a9",
   "metadata": {},
   "outputs": [
    {
     "name": "stdin",
     "output_type": "stream",
     "text": [
      "Enter the string ol\n"
     ]
    },
    {
     "name": "stdout",
     "output_type": "stream",
     "text": [
      "lo\n"
     ]
    }
   ],
   "source": [
    "string = input(\"Enter the string\")\n",
    "string = string[::-1]\n",
    "print(string)"
   ]
  },
  {
   "cell_type": "markdown",
   "id": "d37a91d9-3041-448e-8118-89c1b0ebfe6d",
   "metadata": {},
   "source": [
    "# Write a program to check if a string contains only digits."
   ]
  },
  {
   "cell_type": "code",
   "execution_count": 53,
   "id": "45661f42-9ac4-421b-a010-ee3c6a8db170",
   "metadata": {},
   "outputs": [
    {
     "name": "stdin",
     "output_type": "stream",
     "text": [
      "Enter the string.. 346654\n"
     ]
    },
    {
     "name": "stdout",
     "output_type": "stream",
     "text": [
      "String has only digits\n"
     ]
    }
   ],
   "source": [
    "string = input(\"Enter the string..\")\n",
    "flag = True\n",
    "for ch in string:\n",
    "    if not '0'<=ch <='9':\n",
    "        flag = False\n",
    "        break\n",
    "    else:\n",
    "        continue\n",
    "if flag:\n",
    "    print(\"String has only digits\")\n",
    "else:\n",
    "    print(\"string has digits and other characters..\")"
   ]
  },
  {
   "cell_type": "markdown",
   "id": "55e66fd3-e8de-4f4a-8204-9652a943ac17",
   "metadata": {},
   "source": [
    "# Write a program to find the number of vowels in the string"
   ]
  },
  {
   "cell_type": "code",
   "execution_count": null,
   "id": "91496591-5b3d-4be8-8ec3-640c86a15cb2",
   "metadata": {},
   "outputs": [],
   "source": []
  }
 ],
 "metadata": {
  "kernelspec": {
   "display_name": "Python 3 (ipykernel)",
   "language": "python",
   "name": "python3"
  },
  "language_info": {
   "codemirror_mode": {
    "name": "ipython",
    "version": 3
   },
   "file_extension": ".py",
   "mimetype": "text/x-python",
   "name": "python",
   "nbconvert_exporter": "python",
   "pygments_lexer": "ipython3",
   "version": "3.12.4"
  }
 },
 "nbformat": 4,
 "nbformat_minor": 5
}
