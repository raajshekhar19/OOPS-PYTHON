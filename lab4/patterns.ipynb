{
 "cells": [
  {
   "cell_type": "markdown",
   "id": "978f20f2-d44b-4af6-b872-4fe7e9d9959b",
   "metadata": {},
   "source": [
    "# pattern 1"
   ]
  },
  {
   "cell_type": "code",
   "execution_count": 9,
   "id": "dc2fa40b-fa51-4cfe-8cf8-cf4c6c202e93",
   "metadata": {},
   "outputs": [
    {
     "name": "stdout",
     "output_type": "stream",
     "text": [
      "1 \n",
      "2 2 \n",
      "3 3 3 \n",
      "4 4 4 4 \n",
      "5 5 5 5 5 \n"
     ]
    }
   ],
   "source": [
    "n = 5\n",
    "for i in range(1,n+1):\n",
    "    for j in range(1,i+1):\n",
    "        print(f'{i}',end=\" \")\n",
    "    print()\n"
   ]
  },
  {
   "cell_type": "markdown",
   "id": "720c8e49-fe43-4e97-aa1f-788aafafeaf2",
   "metadata": {},
   "source": [
    "# pattern2"
   ]
  },
  {
   "cell_type": "code",
   "execution_count": 28,
   "id": "71e25cb9-f91a-40b3-8d89-b6136a724327",
   "metadata": {},
   "outputs": [
    {
     "name": "stdout",
     "output_type": "stream",
     "text": [
      "1 1 1 1 1 \n",
      " 2 2 2 2 \n",
      "  3 3 3 \n",
      "   4 4 \n",
      "    5 \n"
     ]
    }
   ],
   "source": [
    "n = 5\n",
    "for i in range(1,n+1):\n",
    "    for j in range(1,i):\n",
    "        print(\" \",end=\"\")\n",
    "    for k in range(n-i+1,0,-1):\n",
    "        print(f'{i}',end=\" \")\n",
    "    print()"
   ]
  },
  {
   "cell_type": "markdown",
   "id": "33671bc0-b5f8-4933-875a-61e4bc2a0fe3",
   "metadata": {},
   "source": [
    "# pattern 3"
   ]
  },
  {
   "cell_type": "code",
   "execution_count": 34,
   "id": "0505845f-8ec0-487a-8756-694dc766bf7c",
   "metadata": {},
   "outputs": [
    {
     "name": "stdout",
     "output_type": "stream",
     "text": [
      "1 \n",
      "1 2 \n",
      "1 2 3 \n",
      "1 2 3 4 \n",
      "1 2 3 4 5 \n"
     ]
    }
   ],
   "source": [
    "n = 5\n",
    "for i in range(1,n+1):\n",
    "    for j in range(1,i+1):\n",
    "        print(j,end = \" \")\n",
    "    print()"
   ]
  },
  {
   "cell_type": "markdown",
   "id": "baae023d-df6f-49e7-912d-7b997a45b503",
   "metadata": {},
   "source": [
    "# pattern 4"
   ]
  },
  {
   "cell_type": "code",
   "execution_count": 42,
   "id": "d0a0d76b-7dc0-453d-87c8-99ec60595811",
   "metadata": {},
   "outputs": [
    {
     "name": "stdout",
     "output_type": "stream",
     "text": [
      "5 5 5 5 5 \n",
      " 4 4 4 4 \n",
      "  3 3 3 \n",
      "   2 2 \n",
      "    1 \n"
     ]
    }
   ],
   "source": [
    "n = 5\n",
    "for i in range(1, n+1):\n",
    "    for j in range(1,i):\n",
    "        print(\" \",end=\"\")\n",
    "    for k in range(n-i+1,0,-1):\n",
    "        print(n-i+1,end= \" \")\n",
    "    print()"
   ]
  },
  {
   "cell_type": "markdown",
   "id": "dd5774a5-f00f-46ad-b52d-bd5c533bce12",
   "metadata": {},
   "source": [
    "# pattern 5"
   ]
  },
  {
   "cell_type": "code",
   "execution_count": 55,
   "id": "2b8f9425-74bb-430e-ae16-d788cea85438",
   "metadata": {},
   "outputs": [
    {
     "name": "stdout",
     "output_type": "stream",
     "text": [
      "5 5 5 5 5 \n",
      " 5 5 5 5 \n",
      "  5 5 5 \n",
      "   5 5 \n",
      "    5 \n"
     ]
    }
   ],
   "source": [
    "n = 5\n",
    "for i in range(1,n+1):\n",
    "    for j in range(1,i):\n",
    "        print(\" \",end=\"\")\n",
    "    for k in range(n-i+1,0,-1):\n",
    "        print(n,end = \" \")\n",
    "    print()"
   ]
  }
 ],
 "metadata": {
  "kernelspec": {
   "display_name": "Python 3 (ipykernel)",
   "language": "python",
   "name": "python3"
  },
  "language_info": {
   "codemirror_mode": {
    "name": "ipython",
    "version": 3
   },
   "file_extension": ".py",
   "mimetype": "text/x-python",
   "name": "python",
   "nbconvert_exporter": "python",
   "pygments_lexer": "ipython3",
   "version": "3.12.4"
  }
 },
 "nbformat": 4,
 "nbformat_minor": 5
}
