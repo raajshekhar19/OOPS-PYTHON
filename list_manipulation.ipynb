{
 "cells": [
  {
   "cell_type": "code",
   "execution_count": 31,
   "id": "cc2bdd8d-e6bd-4011-985e-f4f7b4bae318",
   "metadata": {},
   "outputs": [],
   "source": [
    "l = ['e',\"ESTFSEAf\",7,\"hii\",['1',19,\"shresth\",0000,'raaj',874654,['bfihgesfigefefve', 9908744, 'a', 'ghgd', 764383],\"ujegsfjgbef\",57]]"
   ]
  },
  {
   "cell_type": "code",
   "execution_count": 33,
   "id": "5fdb0ae8-3811-4cee-a7d5-82c10917c8e2",
   "metadata": {},
   "outputs": [
    {
     "data": {
      "text/plain": [
       "764383"
      ]
     },
     "execution_count": 33,
     "metadata": {},
     "output_type": "execute_result"
    }
   ],
   "source": [
    "764383"
   ]
  },
  {
   "cell_type": "code",
   "execution_count": 35,
   "id": "eb4fe9ea-12cc-4927-99f6-63ca5d200c12",
   "metadata": {},
   "outputs": [
    {
     "data": {
      "text/plain": [
       "'raaj'"
      ]
     },
     "execution_count": 35,
     "metadata": {},
     "output_type": "execute_result"
    }
   ],
   "source": [
    "#ascess raaj from the list\n",
    "l[4][4]"
   ]
  },
  {
   "cell_type": "code",
   "execution_count": 64,
   "id": "0dfab8da-ef8c-4d8d-839a-1b22c81b16bc",
   "metadata": {},
   "outputs": [
    {
     "data": {
      "text/plain": [
       "764383"
      ]
     },
     "execution_count": 64,
     "metadata": {},
     "output_type": "execute_result"
    }
   ],
   "source": [
    "#ascess 764383 from the list\n",
    "l[4][6][4]"
   ]
  },
  {
   "cell_type": "code",
   "execution_count": 39,
   "id": "b8d05dc4-b100-487c-b733-d4e473cffd48",
   "metadata": {},
   "outputs": [
    {
     "data": {
      "text/plain": [
       "['bfihgesfigefefve', 9908744, 'a', 'ghgd', 764383]"
      ]
     },
     "execution_count": 39,
     "metadata": {},
     "output_type": "execute_result"
    }
   ],
   "source": [
    "#print the  most nested array\n",
    "l[4][6]"
   ]
  },
  {
   "cell_type": "code",
   "execution_count": 52,
   "id": "0de20dd4-e7d7-42ba-8cf3-bca643b3004e",
   "metadata": {},
   "outputs": [],
   "source": [
    "#modify an element at position [4][6][0] to be the string \"changed\"\n",
    "l[4][6][0]=\"changes\""
   ]
  },
  {
   "cell_type": "code",
   "execution_count": 62,
   "id": "b3d9be95-1958-42ab-a9e3-2ce4c5bcefaf",
   "metadata": {},
   "outputs": [
    {
     "data": {
      "text/plain": [
       "['e',\n",
       " 'ESTFSEAf',\n",
       " 7,\n",
       " 'hii',\n",
       " ['1',\n",
       "  19,\n",
       "  'shresth',\n",
       "  0,\n",
       "  'raaj',\n",
       "  874654,\n",
       "  ['changes', 9908744, 'a', 'ghgd', 764383],\n",
       "  'ujegsfjgbef',\n",
       "  57]]"
      ]
     },
     "execution_count": 62,
     "metadata": {},
     "output_type": "execute_result"
    }
   ],
   "source": [
    "l"
   ]
  },
  {
   "cell_type": "code",
   "execution_count": null,
   "id": "8aac5030-3386-461d-ac58-9d55914fe19f",
   "metadata": {},
   "outputs": [],
   "source": []
  },
  {
   "cell_type": "code",
   "execution_count": null,
   "id": "8250d540-f717-4687-9a8a-4c2a21d221e6",
   "metadata": {},
   "outputs": [],
   "source": []
  }
 ],
 "metadata": {
  "kernelspec": {
   "display_name": "Python 3 (ipykernel)",
   "language": "python",
   "name": "python3"
  },
  "language_info": {
   "codemirror_mode": {
    "name": "ipython",
    "version": 3
   },
   "file_extension": ".py",
   "mimetype": "text/x-python",
   "name": "python",
   "nbconvert_exporter": "python",
   "pygments_lexer": "ipython3",
   "version": "3.12.4"
  }
 },
 "nbformat": 4,
 "nbformat_minor": 5
}
