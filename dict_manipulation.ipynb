{
 "cells": [
  {
   "cell_type": "markdown",
   "id": "d491b0f5-c661-4dba-afb6-5b6fd864c738",
   "metadata": {},
   "source": [
    "## creating a custom 4 d dictionary and accessing its elements"
   ]
  },
  {
   "cell_type": "code",
   "execution_count": 110,
   "id": "90259676-df88-4492-871e-48ac91fdde3d",
   "metadata": {},
   "outputs": [],
   "source": [
    "sms = {\n",
    "    \"mlzs\": {\n",
    "        1: {\n",
    "            \"raaj\": {\"maths\": 20, \"sci\": 25, \"hindi\": 30},\n",
    "            \"himanshu\": {\"maths\": 30, \"sci\": 45, \"hindi\": 90}\n",
    "        }\n",
    "    },\n",
    "    \"dps\": {\n",
    "        1: {\n",
    "            \"jayash\": {\"maths\": 70, \"sci\": 85, \"hindi\": 77}\n",
    "        },\n",
    "        2: {\n",
    "            \"harsh\": {\"maths\": 80, \"sci\": 29, \"hindi\": 80}\n",
    "        }\n",
    "    }\n",
    "}"
   ]
  },
  {
   "cell_type": "code",
   "execution_count": 112,
   "id": "a4e3d86a-bfd5-43b5-b00b-3395ff23ec9a",
   "metadata": {},
   "outputs": [
    {
     "data": {
      "text/plain": [
       "30"
      ]
     },
     "execution_count": 112,
     "metadata": {},
     "output_type": "execute_result"
    }
   ],
   "source": [
    "#fetching maks of raaj in hindi\n",
    "sms[\"mlzs\"][1][\"raaj\"][\"hindi\"]"
   ]
  },
  {
   "cell_type": "code",
   "execution_count": 114,
   "id": "8695ce8f-73fd-4a27-b557-8ec155b53986",
   "metadata": {},
   "outputs": [
    {
     "data": {
      "text/plain": [
       "{1: {'jayash': {'maths': 70, 'sci': 85, 'hindi': 77}},\n",
       " 2: {'harsh': {'maths': 80, 'sci': 29, 'hindi': 80}}}"
      ]
     },
     "execution_count": 114,
     "metadata": {},
     "output_type": "execute_result"
    }
   ],
   "source": [
    "#fetching the data of dps\n",
    "sms[\"dps\"]"
   ]
  },
  {
   "cell_type": "code",
   "execution_count": 118,
   "id": "92f341e0-481c-4db1-aca5-4ac42f6062bc",
   "metadata": {},
   "outputs": [
    {
     "data": {
      "text/plain": [
       "{1: {'raaj': {'maths': 20, 'sci': 25, 'hindi': 30},\n",
       "  'himanshu': {'maths': 30, 'sci': 45, 'hindi': 90}}}"
      ]
     },
     "execution_count": 118,
     "metadata": {},
     "output_type": "execute_result"
    }
   ],
   "source": [
    "#fetching data of mlzs\n",
    "sms[\"mlzs\"]"
   ]
  },
  {
   "cell_type": "code",
   "execution_count": 120,
   "id": "9c8e1e0c-629b-4ccb-bbd8-c816dddd3da4",
   "metadata": {},
   "outputs": [
    {
     "data": {
      "text/plain": [
       "{'maths': 35, 'sci': 45, 'hindi': 90}"
      ]
     },
     "execution_count": 120,
     "metadata": {},
     "output_type": "execute_result"
    }
   ],
   "source": [
    "#update \"himanshu\"'s maths score in \"mlzs\" from 30 to 35\n",
    "sms[\"mlzs\"][1][\"himanshu\"][\"maths\"] = 35\n",
    "sms[\"mlzs\"][1][\"himanshu\"]"
   ]
  },
  {
   "cell_type": "code",
   "execution_count": 126,
   "id": "71c6d3bb-bdd4-46ad-8897-7d240c3757d9",
   "metadata": {},
   "outputs": [],
   "source": [
    "# add anni in both the schools\n",
    "sms[\"mlzs\"][1][\"anni\"] = {\"maths\": 60, \"sci\": 65, \"hindi\": 70}\n",
    "sms[\"dps\"][1][\"anni\"] = {\"maths\": 60, \"sci\": 65, \"hindi\": 70}\n"
   ]
  },
  {
   "cell_type": "code",
   "execution_count": 128,
   "id": "c1086e8b-7181-4598-8e26-e7add99e3122",
   "metadata": {},
   "outputs": [
    {
     "data": {
      "text/plain": [
       "{'mlzs': {1: {'raaj': {'maths': 20, 'sci': 25, 'hindi': 30},\n",
       "   'himanshu': {'maths': 35, 'sci': 45, 'hindi': 90},\n",
       "   'anni': {'maths': 60, 'sci': 65, 'hindi': 70}}},\n",
       " 'dps': {1: {'jayash': {'maths': 70, 'sci': 85, 'hindi': 77},\n",
       "   'anni': {'maths': 60, 'sci': 65, 'hindi': 70}},\n",
       "  2: {'harsh': {'maths': 80, 'sci': 29, 'hindi': 80}}}}"
      ]
     },
     "execution_count": 128,
     "metadata": {},
     "output_type": "execute_result"
    }
   ],
   "source": [
    "sms"
   ]
  },
  {
   "cell_type": "code",
   "execution_count": 130,
   "id": "7957e9d6-b9a3-4d65-98c9-ff01ef0d1fb4",
   "metadata": {},
   "outputs": [
    {
     "data": {
      "text/plain": [
       "{1: {'jayash': {'maths': 70, 'sci': 85, 'hindi': 77},\n",
       "  'anni': {'maths': 60, 'sci': 65, 'hindi': 70}},\n",
       " 2: {'harsh': {'maths': 80, 'sci': 29, 'hindi': 80}}}"
      ]
     },
     "execution_count": 130,
     "metadata": {},
     "output_type": "execute_result"
    }
   ],
   "source": [
    "sms[\"dps\"]"
   ]
  },
  {
   "cell_type": "code",
   "execution_count": 134,
   "id": "1daaac18-c03a-410c-bca7-f7fec77498b2",
   "metadata": {},
   "outputs": [
    {
     "data": {
      "text/plain": [
       "{1: {'jayash': {'maths': 70, 'sci': 85, 'hindi': 77}},\n",
       " 2: {'harsh': {'maths': 80, 'sci': 29, 'hindi': 80}}}"
      ]
     },
     "execution_count": 134,
     "metadata": {},
     "output_type": "execute_result"
    }
   ],
   "source": [
    "#delete anni from dps\n",
    "del sms[\"dps\"][1][\"anni\"]\n",
    "sms[\"dps\"]"
   ]
  }
 ],
 "metadata": {
  "kernelspec": {
   "display_name": "Python 3 (ipykernel)",
   "language": "python",
   "name": "python3"
  },
  "language_info": {
   "codemirror_mode": {
    "name": "ipython",
    "version": 3
   },
   "file_extension": ".py",
   "mimetype": "text/x-python",
   "name": "python",
   "nbconvert_exporter": "python",
   "pygments_lexer": "ipython3",
   "version": "3.12.4"
  }
 },
 "nbformat": 4,
 "nbformat_minor": 5
}
