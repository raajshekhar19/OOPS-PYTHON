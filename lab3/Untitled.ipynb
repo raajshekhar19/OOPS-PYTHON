{
 "cells": [
  {
   "cell_type": "markdown",
   "id": "b1986d5d-ec14-487b-90d7-888d73a43b3d",
   "metadata": {},
   "source": [
    "# Check if the given number is a Disarium Number"
   ]
  },
  {
   "cell_type": "code",
   "execution_count": null,
   "id": "beee0472-6486-4062-a0d2-02b7a5c35de9",
   "metadata": {},
   "outputs": [],
   "source": [
    "def is_disarium(num):\n",
    "    num_str = str(num)\n",
    "    length = len(num_str)\n",
    "    disarium_sum = sum(int(digit)**(idx+1) for idx, digit in enumerate(num_str))\n",
    "    return disarium_sum == num\n",
    "num = 175\n",
    "if is_disarium(num):\n",
    "    print(f\"{num} is a Disarium Number\")\n",
    "else:\n",
    "    print(f\"{num} is not a Disarium Number\")\n"
   ]
  },
  {
   "cell_type": "markdown",
   "id": "c9d26f7a-1f03-488f-91df-c86faba70739",
   "metadata": {},
   "source": [
    "# Check if the given number is a Harshad Number"
   ]
  },
  {
   "cell_type": "code",
   "execution_count": null,
   "id": "c093c4b1-c22d-46df-80f6-003cf92139ac",
   "metadata": {},
   "outputs": [],
   "source": [
    "def is_harshad(num):\n",
    "    digit_sum = sum(int(digit) for digit in str(num))\n",
    "    return num % digit_sum == 0\n",
    "\n",
    "num = 18\n",
    "if is_harshad(num):\n",
    "    print(f\"{num} is a Harshad Number\")\n",
    "else:\n",
    "    print(f\"{num} is not a Harshad Number\")\n"
   ]
  },
  {
   "cell_type": "markdown",
   "id": "27d00615-fbe2-4ec8-aaed-8ecc1854a816",
   "metadata": {},
   "source": [
    "# Print Armstrong Numbers from 1 to 1000"
   ]
  },
  {
   "cell_type": "code",
   "execution_count": null,
   "id": "4145878c-1f0d-4e44-9468-7c3ec568032a",
   "metadata": {},
   "outputs": [],
   "source": [
    "def is_armstrong(num):\n",
    "    num_str = str(num)\n",
    "    length = len(num_str)\n",
    "    armstrong_sum = sum(int(digit)**length for digit in num_str)\n",
    "    \n",
    "    return armstrong_sum == num\n",
    "\n",
    "print(\"Armstrong Numbers between 1 and 1000:\")\n",
    "for num in range(1, 1001):\n",
    "    if is_armstrong(num):\n",
    "        print(num)"
   ]
  },
  {
   "cell_type": "markdown",
   "id": "0db108b0-0f07-44a0-8f8e-c45605357c40",
   "metadata": {},
   "source": [
    "# Compute the Value of X^n"
   ]
  },
  {
   "cell_type": "code",
   "execution_count": null,
   "id": "66aecae3-fae5-447a-90a3-5030c80ec661",
   "metadata": {},
   "outputs": [],
   "source": [
    "def power(x, n):\n",
    "    if n==0:\n",
    "        return 1\n",
    "    elif n==1:\n",
    "        return x\n",
    "    else:\n",
    "        ans = 1\n",
    "        for i in range(1,n+1):\n",
    "            ans = ans * x\n",
    "        return ans\n",
    "\n",
    "x = 2\n",
    "n = 5\n",
    "print(f\"The value of {x}^{n} is {power(x, n)}\")"
   ]
  },
  {
   "cell_type": "markdown",
   "id": "6f52de89-1d67-41a1-93b4-86dc5eaa8836",
   "metadata": {},
   "source": [
    "# calculate value of ncr"
   ]
  },
  {
   "cell_type": "code",
   "execution_count": null,
   "id": "27344393-341c-4216-915d-e8698a4aeb7b",
   "metadata": {},
   "outputs": [],
   "source": [
    "import math\n",
    "\n",
    "def nCr(n, r):\n",
    "    return math.factorial(n) // (math.factorial(r) * math.factorial(n - r))\n",
    "\n",
    "n = 5\n",
    "r = 2\n",
    "print(f\"The value of {n}C{r} is {nCr(n, r)}\")\n"
   ]
  },
  {
   "cell_type": "markdown",
   "id": "9024983c-89ac-43ff-80d8-6968f167cd85",
   "metadata": {},
   "source": [
    "# Count the sum of digits in the entered number"
   ]
  },
  {
   "cell_type": "code",
   "execution_count": null,
   "id": "4666fbb9-4337-40b3-87b0-77cd6e043f40",
   "metadata": {},
   "outputs": [],
   "source": [
    "def sum_of_digits(num):\n",
    "    return sum(int(digit) for digit in str(num))\n",
    "\n",
    "\n",
    "num = 1234\n",
    "print(f\"The sum of digits of {num} is {sum_of_digits(num)}\")"
   ]
  }
 ],
 "metadata": {
  "kernelspec": {
   "display_name": "Python 3 (ipykernel)",
   "language": "python",
   "name": "python3"
  },
  "language_info": {
   "codemirror_mode": {
    "name": "ipython",
    "version": 3
   },
   "file_extension": ".py",
   "mimetype": "text/x-python",
   "name": "python",
   "nbconvert_exporter": "python",
   "pygments_lexer": "ipython3",
   "version": "3.12.4"
  }
 },
 "nbformat": 4,
 "nbformat_minor": 5
}
