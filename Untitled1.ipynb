{
 "cells": [
  {
   "cell_type": "code",
   "execution_count": 9,
   "id": "46ef00c9-7850-413f-8759-2516c2029a87",
   "metadata": {},
   "outputs": [
    {
     "name": "stdout",
     "output_type": "stream",
     "text": [
      "2650321622304\n",
      "2650322075040\n"
     ]
    }
   ],
   "source": [
    "class Atm:\n",
    "    def __init__(self):\n",
    "        self.pin = ''\n",
    "        self.balance = 0\n",
    "        print(id(self))\n",
    "\n",
    "hiii = Atm()\n",
    "hlw = Atm()"
   ]
  },
  {
   "cell_type": "code",
   "execution_count": null,
   "id": "b61e8a28-0eaf-4061-bbd0-0392e5938f4c",
   "metadata": {},
   "outputs": [],
   "source": [
    "#mpthon documentation find the magic methods"
   ]
  },
  {
   "cell_type": "code",
   "execution_count": null,
   "id": "1bbbd306-8cfd-4722-9550-1ec61335c138",
   "metadata": {},
   "outputs": [],
   "source": []
  },
  {
   "cell_type": "code",
   "execution_count": 11,
   "id": "759b8c3a-af9c-43f9-93f5-b9386e2be408",
   "metadata": {},
   "outputs": [],
   "source": [
    "class Atm2:\n",
    "    pass"
   ]
  },
  {
   "cell_type": "code",
   "execution_count": 13,
   "id": "1f0cbb64-77ea-4941-a83d-da1a75ff989b",
   "metadata": {},
   "outputs": [
    {
     "name": "stdout",
     "output_type": "stream",
     "text": [
      "2650314430832\n"
     ]
    }
   ],
   "source": [
    "h = Atm()"
   ]
  },
  {
   "cell_type": "code",
   "execution_count": 15,
   "id": "86707f73-36c6-4809-9038-20ba40ef3171",
   "metadata": {},
   "outputs": [],
   "source": [
    "h = Atm2()"
   ]
  },
  {
   "cell_type": "code",
   "execution_count": 17,
   "id": "540852cb-79bc-4cf4-8007-06fb956364a6",
   "metadata": {},
   "outputs": [
    {
     "ename": "AttributeError",
     "evalue": "'Atm2' object has no attribute 'pin'",
     "output_type": "error",
     "traceback": [
      "\u001b[1;31m---------------------------------------------------------------------------\u001b[0m",
      "\u001b[1;31mAttributeError\u001b[0m                            Traceback (most recent call last)",
      "Cell \u001b[1;32mIn[17], line 1\u001b[0m\n\u001b[1;32m----> 1\u001b[0m h\u001b[38;5;241m.\u001b[39mpin\n",
      "\u001b[1;31mAttributeError\u001b[0m: 'Atm2' object has no attribute 'pin'"
     ]
    }
   ],
   "source": [
    "h.pin"
   ]
  },
  {
   "cell_type": "code",
   "execution_count": null,
   "id": "499def4c-c966-4862-b276-588372c59a3b",
   "metadata": {},
   "outputs": [],
   "source": []
  }
 ],
 "metadata": {
  "kernelspec": {
   "display_name": "Python 3 (ipykernel)",
   "language": "python",
   "name": "python3"
  },
  "language_info": {
   "codemirror_mode": {
    "name": "ipython",
    "version": 3
   },
   "file_extension": ".py",
   "mimetype": "text/x-python",
   "name": "python",
   "nbconvert_exporter": "python",
   "pygments_lexer": "ipython3",
   "version": "3.12.4"
  }
 },
 "nbformat": 4,
 "nbformat_minor": 5
}
