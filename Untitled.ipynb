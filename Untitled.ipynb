{
 "cells": [
  {
   "cell_type": "markdown",
   "id": "0df249cb-25c5-4ae4-b6e1-81de4343eb5a",
   "metadata": {},
   "source": [
    "# FUNCTIONS"
   ]
  },
  {
   "cell_type": "code",
   "execution_count": null,
   "id": "ae44ff46-db84-42ca-8bc8-78baa20cefb6",
   "metadata": {},
   "outputs": [],
   "source": [
    "#MAP AND LAMBA FUNCTION"
   ]
  },
  {
   "cell_type": "markdown",
   "id": "ec8e9dec-6cef-41e5-a557-0b1e2ab0c237",
   "metadata": {},
   "source": [
    "# LAMBDA FUNCTION"
   ]
  },
  {
   "cell_type": "code",
   "execution_count": 4,
   "id": "e1d4532c-0ca9-493e-b714-1f594b8a235e",
   "metadata": {},
   "outputs": [
    {
     "name": "stdout",
     "output_type": "stream",
     "text": [
      "RAAJ\n"
     ]
    }
   ],
   "source": [
    "str = \"raaj\"\n",
    "upper = lambda string : string.upper()\n",
    "print(upper(str))"
   ]
  },
  {
   "cell_type": "code",
   "execution_count": 6,
   "id": "01209805-e21c-407b-8212-dc93cb8317f4",
   "metadata": {},
   "outputs": [
    {
     "name": "stdout",
     "output_type": "stream",
     "text": [
      "10\n",
      "20\n",
      "30\n",
      "40\n"
     ]
    }
   ],
   "source": [
    "is_even_list = [lambda arg=x: arg * 10 for x in range(1, 5)]\n",
    "for item in is_even_list:\n",
    "    print(item())"
   ]
  }
 ],
 "metadata": {
  "kernelspec": {
   "display_name": "Python 3 (ipykernel)",
   "language": "python",
   "name": "python3"
  },
  "language_info": {
   "codemirror_mode": {
    "name": "ipython",
    "version": 3
   },
   "file_extension": ".py",
   "mimetype": "text/x-python",
   "name": "python",
   "nbconvert_exporter": "python",
   "pygments_lexer": "ipython3",
   "version": "3.12.4"
  }
 },
 "nbformat": 4,
 "nbformat_minor": 5
}
