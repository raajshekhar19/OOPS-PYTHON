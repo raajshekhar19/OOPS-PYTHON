{
 "cells": [
  {
   "cell_type": "code",
   "execution_count": 1,
   "id": "e7beb859-1e32-4eb6-8532-901cd297fd62",
   "metadata": {},
   "outputs": [
    {
     "data": {
      "text/plain": [
       "dict"
      ]
     },
     "execution_count": 1,
     "metadata": {},
     "output_type": "execute_result"
    }
   ],
   "source": [
    "d = {}\n",
    "type(d)\n"
   ]
  },
  {
   "cell_type": "code",
   "execution_count": 3,
   "id": "a0cb5d57-f8ca-476a-83e4-1a7c1251876a",
   "metadata": {},
   "outputs": [],
   "source": [
    "d = {\"first_name\":\"raaj\",\"last_name\":\"shekhar\"}"
   ]
  },
  {
   "cell_type": "code",
   "execution_count": 5,
   "id": "da8dddfa-e5b7-4ba4-aae5-8b2497be29f2",
   "metadata": {},
   "outputs": [
    {
     "name": "stdout",
     "output_type": "stream",
     "text": [
      "{'first_name': 'raaj', 'last_name': 'shekhar'}\n"
     ]
    }
   ],
   "source": [
    "print(d)"
   ]
  },
  {
   "cell_type": "code",
   "execution_count": 7,
   "id": "8632a7e8-8c67-4d7a-813c-4c830fae8ad7",
   "metadata": {},
   "outputs": [
    {
     "ename": "TypeError",
     "evalue": "unhashable type: 'list'",
     "output_type": "error",
     "traceback": [
      "\u001b[1;31m---------------------------------------------------------------------------\u001b[0m",
      "\u001b[1;31mTypeError\u001b[0m                                 Traceback (most recent call last)",
      "Cell \u001b[1;32mIn[7], line 2\u001b[0m\n\u001b[0;32m      1\u001b[0m \u001b[38;5;66;03m#key is always immutable and unique\u001b[39;00m\n\u001b[1;32m----> 2\u001b[0m d1 \u001b[38;5;241m=\u001b[39m {[\u001b[38;5;241m1\u001b[39m,\u001b[38;5;241m2\u001b[39m,\u001b[38;5;241m3\u001b[39m,\u001b[38;5;241m4\u001b[39m,\u001b[38;5;241m5\u001b[39m]:\u001b[38;5;124m\"\u001b[39m\u001b[38;5;124mraaj\u001b[39m\u001b[38;5;124m\"\u001b[39m}\n",
      "\u001b[1;31mTypeError\u001b[0m: unhashable type: 'list'"
     ]
    }
   ],
   "source": [
    "#key is always immutable and unique\n",
    "d1 = {[1,2,3,4,5]:\"raaj\"}\n",
    "#list mutable h isliye error  unhashable type: 'list'\n",
    "#convert to tuple"
   ]
  },
  {
   "cell_type": "code",
   "execution_count": 11,
   "id": "7fc93831-40ff-42b1-a8f7-22b9b8d1d455",
   "metadata": {},
   "outputs": [],
   "source": [
    "#if u use multiple values then value overwrites\n",
    "d2 = {1:'raaj',2 : {'marks':50}}\n"
   ]
  },
  {
   "cell_type": "code",
   "execution_count": 13,
   "id": "1cf7a2f5-f35e-4bfe-be45-667fe95d3664",
   "metadata": {},
   "outputs": [
    {
     "data": {
      "text/plain": [
       "{1: 'raaj', 2: {'marks': 50}}"
      ]
     },
     "execution_count": 13,
     "metadata": {},
     "output_type": "execute_result"
    }
   ],
   "source": [
    "d2"
   ]
  },
  {
   "cell_type": "code",
   "execution_count": 15,
   "id": "e241cac3-870a-4254-8368-dfe03a920f01",
   "metadata": {},
   "outputs": [
    {
     "data": {
      "text/plain": [
       "50"
      ]
     },
     "execution_count": 15,
     "metadata": {},
     "output_type": "execute_result"
    }
   ],
   "source": [
    "d2[2]['marks']"
   ]
  },
  {
   "cell_type": "code",
   "execution_count": 17,
   "id": "cdc683f6-1144-47d6-b577-f86a2b72b47d",
   "metadata": {},
   "outputs": [
    {
     "data": {
      "text/plain": [
       "dict_keys([1, 2])"
      ]
     },
     "execution_count": 17,
     "metadata": {},
     "output_type": "execute_result"
    }
   ],
   "source": [
    "d2.keys()"
   ]
  },
  {
   "cell_type": "code",
   "execution_count": 19,
   "id": "1503d8bc-09ca-4798-bd3d-feb6d3cd2bfe",
   "metadata": {},
   "outputs": [
    {
     "data": {
      "text/plain": [
       "'raaj'"
      ]
     },
     "execution_count": 19,
     "metadata": {},
     "output_type": "execute_result"
    }
   ],
   "source": [
    "d2.get(1)"
   ]
  },
  {
   "cell_type": "code",
   "execution_count": 23,
   "id": "c9010306-2e04-4631-91bc-272bc86bc6f0",
   "metadata": {},
   "outputs": [],
   "source": [
    "d3 = {(1,2,3,4,5):'raaj','age':29}"
   ]
  },
  {
   "cell_type": "code",
   "execution_count": 25,
   "id": "26fcfa54-88df-4608-acd6-c95b42d040ff",
   "metadata": {},
   "outputs": [],
   "source": [
    "#dict of 4 dimensions and ascess\n",
    "#pop\n",
    "#delete \n"
   ]
  },
  {
   "cell_type": "code",
   "execution_count": 27,
   "id": "264dfe78-62da-4024-9f05-6ad4cc3c39d8",
   "metadata": {},
   "outputs": [
    {
     "ename": "NameError",
     "evalue": "name 'd5' is not defined",
     "output_type": "error",
     "traceback": [
      "\u001b[1;31m---------------------------------------------------------------------------\u001b[0m",
      "\u001b[1;31mNameError\u001b[0m                                 Traceback (most recent call last)",
      "Cell \u001b[1;32mIn[27], line 2\u001b[0m\n\u001b[0;32m      1\u001b[0m \u001b[38;5;66;03m#d5\u001b[39;00m\n\u001b[1;32m----> 2\u001b[0m \u001b[38;5;28;01mfor\u001b[39;00m i \u001b[38;5;129;01min\u001b[39;00m d5:\n\u001b[0;32m      3\u001b[0m     \u001b[38;5;28mprint\u001b[39m(i,d5[i],sep\u001b[38;5;241m=\u001b[39m \u001b[38;5;124m\"\u001b[39m\u001b[38;5;124m \u001b[39m\u001b[38;5;124m\"\u001b[39m)\n",
      "\u001b[1;31mNameError\u001b[0m: name 'd5' is not defined"
     ]
    }
   ],
   "source": [
    "#d5\n",
    "for i in d5:\n",
    "    print(i,d5[i],sep= \" \")"
   ]
  },
  {
   "cell_type": "code",
   "execution_count": null,
   "id": "61505aa3-6e75-4a80-add6-436627e8a45c",
   "metadata": {},
   "outputs": [],
   "source": [
    "#given a time in hours min and seconds return the angles found"
   ]
  },
  {
   "cell_type": "code",
   "execution_count": null,
   "id": "a0af9dff-5d1c-4753-8143-23f9c0ae3b31",
   "metadata": {},
   "outputs": [],
   "source": [
    "#sort a dictionary"
   ]
  }
 ],
 "metadata": {
  "kernelspec": {
   "display_name": "Python 3 (ipykernel)",
   "language": "python",
   "name": "python3"
  },
  "language_info": {
   "codemirror_mode": {
    "name": "ipython",
    "version": 3
   },
   "file_extension": ".py",
   "mimetype": "text/x-python",
   "name": "python",
   "nbconvert_exporter": "python",
   "pygments_lexer": "ipython3",
   "version": "3.12.4"
  }
 },
 "nbformat": 4,
 "nbformat_minor": 5
}
