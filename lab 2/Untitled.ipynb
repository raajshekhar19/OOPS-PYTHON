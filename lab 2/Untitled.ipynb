{
 "cells": [
  {
   "cell_type": "markdown",
   "id": "a85a5e4e-7e01-44e5-b863-0a20ced1ef35",
   "metadata": {},
   "source": [
    "## check number is even or odd\n"
   ]
  },
  {
   "cell_type": "code",
   "execution_count": 7,
   "id": "5b493821-cbce-4ee6-bc89-41e42c1d7c28",
   "metadata": {},
   "outputs": [
    {
     "name": "stdin",
     "output_type": "stream",
     "text": [
      "Enter the number 1\n"
     ]
    },
    {
     "name": "stdout",
     "output_type": "stream",
     "text": [
      "odd\n"
     ]
    }
   ],
   "source": [
    "num = int(input(\"Enter the number\"))\n",
    "if num % 2 == 0:\n",
    "    print(\"even\")\n",
    "else:\n",
    "    print(\"odd\")"
   ]
  },
  {
   "cell_type": "markdown",
   "id": "a266ac65-7abb-4861-bb7f-bbe1e846e45b",
   "metadata": {},
   "source": [
    "# factorial of a number\n"
   ]
  },
  {
   "cell_type": "code",
   "execution_count": 14,
   "id": "7c2fc0ff-3050-47ab-926f-82a395e004ad",
   "metadata": {},
   "outputs": [
    {
     "name": "stdin",
     "output_type": "stream",
     "text": [
      "Enter the number 3\n"
     ]
    },
    {
     "name": "stdout",
     "output_type": "stream",
     "text": [
      "6\n"
     ]
    }
   ],
   "source": [
    "num = int(input(\"Enter the number\"))\n",
    "ans = 1\n",
    "for i in range(1,num+1):\n",
    "    ans = ans * i\n",
    "\n",
    "print(ans)"
   ]
  },
  {
   "cell_type": "markdown",
   "id": "65c4c361-a625-4c5d-be48-4162855ac8d2",
   "metadata": {},
   "source": [
    "# prime between 1 to 100"
   ]
  },
  {
   "cell_type": "code",
   "execution_count": 18,
   "id": "7e7f7d07-4366-4ac1-a75f-ef6a84dbd16d",
   "metadata": {},
   "outputs": [
    {
     "name": "stdout",
     "output_type": "stream",
     "text": [
      "2 3 5 7 11 13 17 19 23 29 31 37 41 43 47 53 59 61 67 71 73 79 83 89 97 "
     ]
    }
   ],
   "source": [
    "def primecheck(n):\n",
    "    check = True\n",
    "    if  n==2 :\n",
    "        return True\n",
    "    else :\n",
    "        for i in range(2,n):\n",
    "            if n % i == 0:\n",
    "                check = False\n",
    "                break\n",
    "    if check==True:\n",
    "        return True\n",
    "    else :\n",
    "        return False\n",
    "    \n",
    "\n",
    "def prime():\n",
    "    for i in range(2,100+1):\n",
    "        if primecheck(i)==True :\n",
    "            print(i,end= \" \")\n",
    "\n",
    "prime()"
   ]
  },
  {
   "cell_type": "markdown",
   "id": "4f0763fe-bc8a-41c0-94d1-0708f71a09ad",
   "metadata": {},
   "source": [
    "# count of numbers of a string"
   ]
  },
  {
   "cell_type": "code",
   "execution_count": 36,
   "id": "6707e384-ef5d-44fe-8981-c995aa24af20",
   "metadata": {},
   "outputs": [
    {
     "name": "stdin",
     "output_type": "stream",
     "text": [
      "Enter the string hii\n"
     ]
    },
    {
     "name": "stdout",
     "output_type": "stream",
     "text": [
      "THe occurance of h is 1\n",
      "THe occurance of i is 2\n"
     ]
    }
   ],
   "source": [
    "s = (input(\"Enter the string\"))\n",
    "dict = {}\n",
    "for ch in s:\n",
    "    if ch not in dict.keys() :\n",
    "        dict[ch] = 1\n",
    "    else :\n",
    "        dict[ch] += 1\n",
    "for i in dict.keys():\n",
    "    print(f'THe occurance of {i} is {dict[i]}')"
   ]
  },
  {
   "cell_type": "markdown",
   "id": "7e271d78-09c6-4bee-836c-8fa170a58bee",
   "metadata": {},
   "source": [
    "# To use split and joins methods in the string and trace a birthday with a dictionary data structure"
   ]
  },
  {
   "cell_type": "code",
   "execution_count": 40,
   "id": "2c1d0580-e87c-4885-b0e4-9ac2bda9c085",
   "metadata": {},
   "outputs": [
    {
     "name": "stdin",
     "output_type": "stream",
     "text": [
      "Enter the amount of people you want to add in the dictionary:  1\n",
      "Enter the name of the  person 1:  raaj shekhar\n",
      "Enter the Date of Birth (dd/mm/yyyy):  19/04/2004\n",
      "Enter the name of the person to trace their birthday:  raaj shekhar\n"
     ]
    },
    {
     "name": "stdout",
     "output_type": "stream",
     "text": [
      "r's a's a's j's birthday is on 19-04-2004\n"
     ]
    }
   ],
   "source": [
    "def find_birthday(name):\n",
    "    name_parts = name.split()\n",
    "    \n",
    "    formatted_name = \" \".join(name_parts)\n",
    "    \n",
    "\n",
    "    birthday = birthdays.get(name)\n",
    "    init_format_bday = birthday.split('/')\n",
    "    final_format_bday = \"-\".join(init_format_bday)\n",
    "    \n",
    "    if birthday:\n",
    "        print(f\"{formatted_name}'s birthday is on {final_format_bday}\")\n",
    "    else:\n",
    "        print(f\"{formatted_name}'s birthday information is not available in the dictionary\")\n",
    "\n",
    "birthdays = {}\n",
    "A = int(input(\"Enter the amount of people you want to add in the dictionary: \"))\n",
    "\n",
    "for i in range(A):\n",
    "    key = input(f'Enter the name of the  person {i+1}: ')\n",
    "    value = input(\"Enter the Date of Birth (dd/mm/yyyy): \")\n",
    "    birthdays[key] = value\n",
    "    \n",
    "name = input(\"Enter the name of the person to trace their birthday: \")\n",
    "find_birthday(name)"
   ]
  },
  {
   "cell_type": "markdown",
   "id": "cc24424a-d945-4ec0-91fc-72c6f39cb18e",
   "metadata": {},
   "source": [
    "# To function dups to find all duplicates in the list"
   ]
  },
  {
   "cell_type": "code",
   "execution_count": null,
   "id": "94286601-6d35-4dc6-b393-0e734eae8b99",
   "metadata": {},
   "outputs": [],
   "source": [
    "def __dups__(list):\n",
    "    l = len(list)\n",
    "    dup = {}\n",
    "    for i in list:\n",
    "        if i not in dup.keys():\n",
    "            dup[i] = 1\n",
    "        else:\n",
    "            dup[i] += 1\n",
    "\n",
    "    for i in dup:\n",
    "        if dup[i] > 1:\n",
    "            print(i, end = ' ')\n",
    "\n",
    "\n",
    "List = []\n",
    "N = int(input(\"Enter the number of elements in the list: \"))\n",
    "\n",
    "for i in range(N):\n",
    "    n = int(input(\"Enter a number: \"))\n",
    "    List.append(n)\n",
    "\n",
    "__dups__(List)"
   ]
  },
  {
   "cell_type": "markdown",
   "id": "2d30dfb7-405a-4924-9e7e-ab3bae122708",
   "metadata": {},
   "source": [
    "# To finding mean, median, mode for the given set of numbers in a list."
   ]
  },
  {
   "cell_type": "code",
   "execution_count": 42,
   "id": "0857bca8-856f-495e-9e64-42ff7c0db611",
   "metadata": {},
   "outputs": [
    {
     "name": "stdin",
     "output_type": "stream",
     "text": [
      "Enter the number of elements in a list:  3\n",
      "Enter a number:  1\n",
      "Enter a number:  2\n",
      "Enter a number:  3\n"
     ]
    },
    {
     "name": "stdout",
     "output_type": "stream",
     "text": [
      "Sorted list: [1, 2, 3]\n",
      "Mean:  2.0\n",
      "Median:  2\n",
      "Mode:  1\n"
     ]
    }
   ],
   "source": [
    "def __mean__(list):\n",
    "    length = len(list)\n",
    "    s = 0\n",
    "    \n",
    "    for i in list:\n",
    "        s = s + i\n",
    "\n",
    "    m = s / length\n",
    "    return m\n",
    "\n",
    "def __median__(median):\n",
    "    length = len(list)\n",
    "\n",
    "    if length % 2 == 0:\n",
    "        return (list[length // 2] + list[length //2 - 1]) / 2\n",
    "    else:\n",
    "        return list[length // 2]\n",
    "        \n",
    "def __mode__(list):\n",
    "    count = 0\n",
    "    md = 0\n",
    "\n",
    "    for i in list:\n",
    "        ctr = 0\n",
    "        for j in list:\n",
    "            if j == i:\n",
    "                ctr += 1\n",
    "        if ctr > count:\n",
    "            count = ctr\n",
    "            md = i\n",
    "    return md\n",
    "\n",
    "\n",
    "list = []\n",
    "A = int(input(\"Enter the number of elements in a list: \"))\n",
    "\n",
    "for i in range(A):\n",
    "    S = int(input(\"Enter a number: \"))\n",
    "    list.append(S)\n",
    "list.sort()\n",
    "print(f\"Sorted list: {list}\")\n",
    "\n",
    "mean = __mean__(list)\n",
    "median = __median__(list)\n",
    "mode = __mode__(list)\n",
    "\n",
    "print(\"Mean: \", mean)\n",
    "print(\"Median: \", median)\n",
    "print(\"Mode: \", mode)"
   ]
  },
  {
   "cell_type": "markdown",
   "id": "6924775c-8e6c-4113-a7ec-9e1045fcf484",
   "metadata": {},
   "source": [
    "# Addition of 2 Matrices"
   ]
  },
  {
   "cell_type": "code",
   "execution_count": null,
   "id": "c08f4cdc-0fa2-4f8b-8682-27b7268ef28d",
   "metadata": {},
   "outputs": [],
   "source": [
    "def add_matrices(matrix1, matrix2):\n",
    "    if len(matrix1) != len(matrix2) or len(matrix1[0]) != len(matrix2[0]):\n",
    "        raise ValueError(\"Matrices must have the same dimensions\")\n",
    "    \n",
    "    result = []\n",
    "    \n",
    "    for i in range(len(matrix1)):\n",
    "        row = []\n",
    "        for j in range(len(matrix1[0])):\n",
    "            row.append(matrix1[i][j] + matrix2[i][j])\n",
    "        result.append(row)\n",
    "    \n",
    "    return result\n",
    "\n",
    "matrix1 = [[1, 2], [3, 4]]\n",
    "matrix2 = [[5, 6], [7, 8]]\n",
    "result = add_matrices(matrix1, matrix2)\n",
    "print(result) "
   ]
  },
  {
   "cell_type": "markdown",
   "id": "d194888b-71cf-449d-b826-eeb78f46595b",
   "metadata": {},
   "source": [
    "# Multiplication of 2 Matrices"
   ]
  },
  {
   "cell_type": "code",
   "execution_count": null,
   "id": "3d30f8f3-822f-4879-ab29-7aedc7502daa",
   "metadata": {},
   "outputs": [],
   "source": [
    "def multiply_matrices(matrix1, matrix2):\n",
    "    if len(matrix1[0]) != len(matrix2):\n",
    "        raise ValueError(\"Number of columns in first matrix must equal number of rows in second matrix\")\n",
    "    \n",
    "    result = [[0 for _ in range(len(matrix2[0]))] for _ in range(len(matrix1))]\n",
    "    \n",
    "    for i in range(len(matrix1)):\n",
    "        for j in range(len(matrix2[0])):\n",
    "            for k in range(len(matrix2)):\n",
    "                result[i][j] += matrix1[i][k] * matrix2[k][j]\n",
    "    \n",
    "    return result\n",
    "\n",
    "matrix1 = [[1, 2], [3, 4]]\n",
    "matrix2 = [[5, 6], [7, 8]]\n",
    "result = multiply_matrices(matrix1, matrix2)\n",
    "print(result)"
   ]
  },
  {
   "cell_type": "markdown",
   "id": "cd30a44e-a1ad-41d9-b364-a63014533a45",
   "metadata": {},
   "source": [
    "# String Parenthesis Checker\n"
   ]
  },
  {
   "cell_type": "code",
   "execution_count": null,
   "id": "d7cd5591-11b8-46d4-bf38-71157673bc9b",
   "metadata": {},
   "outputs": [],
   "source": [
    "def is_valid_parentheses(s):\n",
    "    matching_parentheses = {')': '(', '}': '{', ']': '['}\n",
    "    stack = []\n",
    "    for char in s:\n",
    "        if char in matching_parentheses:\n",
    "            top_element = stack.pop() if stack else '#'\n",
    "            if matching_parentheses[char] != top_element:\n",
    "                return False\n",
    "        else:\n",
    "            stack.append(char)\n",
    "    return not stack\n",
    "s = input(\"Enter the string containing parentheses: \")\n",
    "if is_valid_parentheses(s):\n",
    "    print(\"The parentheses are valid.\")\n",
    "else:\n",
    "    print(\"The parentheses are not valid.\")"
   ]
  },
  {
   "cell_type": "markdown",
   "id": "e079455d-1191-4cf2-9c86-ac666c44215d",
   "metadata": {},
   "source": [
    "# Possible subsets from a set of integers"
   ]
  },
  {
   "cell_type": "code",
   "execution_count": null,
   "id": "f694b946-7bdb-41ae-be29-6e3a8e568135",
   "metadata": {},
   "outputs": [],
   "source": [
    "def subsets(nums):\n",
    "    result = [[]]\n",
    "    \n",
    "    for num in nums:\n",
    "        result += [curr + [num] for curr in result]\n",
    "    \n",
    "    return result\n",
    "\n",
    "nums = [1, 2, 3]\n",
    "unique_subsets = subsets(nums)\n",
    "print(unique_subsets)"
   ]
  }
 ],
 "metadata": {
  "kernelspec": {
   "display_name": "Python 3 (ipykernel)",
   "language": "python",
   "name": "python3"
  },
  "language_info": {
   "codemirror_mode": {
    "name": "ipython",
    "version": 3
   },
   "file_extension": ".py",
   "mimetype": "text/x-python",
   "name": "python",
   "nbconvert_exporter": "python",
   "pygments_lexer": "ipython3",
   "version": "3.12.4"
  }
 },
 "nbformat": 4,
 "nbformat_minor": 5
}
