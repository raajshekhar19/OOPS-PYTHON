{
 "cells": [
  {
   "cell_type": "markdown",
   "id": "778a1fe9-c817-4679-8aff-0d56597e6a03",
   "metadata": {},
   "source": [
    "# genrate fibonnaci series"
   ]
  },
  {
   "cell_type": "code",
   "execution_count": 13,
   "id": "a7aa5380-4ca7-4c3d-84f0-8f9e4b597de7",
   "metadata": {},
   "outputs": [
    {
     "name": "stdin",
     "output_type": "stream",
     "text": [
      "Enter the number of terms :  10\n"
     ]
    },
    {
     "name": "stdout",
     "output_type": "stream",
     "text": [
      "0 1 1 2 3 5 8 13 21 34 "
     ]
    }
   ],
   "source": [
    "def fibonacci(n):\n",
    "    if n==0 :\n",
    "        return 0\n",
    "    elif n==1:\n",
    "        return 1\n",
    "    else:\n",
    "        return (fibonacci(n-1)+fibonacci(n-2))\n",
    "\n",
    "\n",
    "n = int(input(\"Enter the number of terms : \"))\n",
    "for i in range (0,n):\n",
    "    print(fibonacci(i),end = \" \" )\n",
    "    "
   ]
  },
  {
   "cell_type": "markdown",
   "id": "3683f461-8815-498a-9e6e-99398bf87180",
   "metadata": {},
   "source": [
    "# Write a program to Calculate Factorial Using a Loop"
   ]
  },
  {
   "cell_type": "code",
   "execution_count": 28,
   "id": "e5eff674-c046-4251-8b91-0958f3dc5694",
   "metadata": {},
   "outputs": [
    {
     "name": "stdin",
     "output_type": "stream",
     "text": [
      "Enter the number :  5\n"
     ]
    },
    {
     "name": "stdout",
     "output_type": "stream",
     "text": [
      "The anser is 120\n"
     ]
    }
   ],
   "source": [
    "n = int(input(\"Enter the number : \"))\n",
    "ans = 1\n",
    "if n==0:\n",
    "    print(\"1\")\n",
    "else:\n",
    "    for i in range (1,n+1):\n",
    "        ans = ans*i\n",
    "print(f'The anser is {ans}')\n",
    "    "
   ]
  },
  {
   "cell_type": "markdown",
   "id": "497ca134-4ea5-449e-bb2f-1afa293befab",
   "metadata": {},
   "source": [
    "# Write a program to check given number is Armstrong number or not"
   ]
  },
  {
   "cell_type": "code",
   "execution_count": null,
   "id": "90b9fd9f-28ec-4134-bc4c-5ad52228732d",
   "metadata": {},
   "outputs": [],
   "source": [
    "def is_armstrong(n):\n",
    "    sum = 0\n",
    "    k = n\n",
    "    if k<10 and k>0:\n",
    "        return True\n",
    "    else:\n",
    "        sum = 0\n",
    "        s = str(k)\n",
    "        power = len(s)\n",
    "        while k:\n",
    "            rem = k%10\n",
    "            sum+=rem**power\n",
    "            k = k//10\n",
    "        if sum==n:\n",
    "            return True\n",
    "        else:\n",
    "            return False\n",
    "        \n",
    "        \n",
    "\n",
    "n = int(input(\"Enter the number: \"))\n",
    "if is_armstrong(n):\n",
    "    print(\"yes\")\n",
    "else:\n",
    "    print(\"no\")\n"
   ]
  },
  {
   "cell_type": "markdown",
   "id": "d638f30b-9204-42fb-bc8e-582d60e1ee02",
   "metadata": {},
   "source": [
    "# Write a program to check given number is the perfect number or not.\n"
   ]
  },
  {
   "cell_type": "code",
   "execution_count": 56,
   "id": "210651c1-c75f-47b0-a97d-de93fb991907",
   "metadata": {},
   "outputs": [
    {
     "name": "stdin",
     "output_type": "stream",
     "text": [
      "Enter the number:  28\n"
     ]
    },
    {
     "name": "stdout",
     "output_type": "stream",
     "text": [
      "YES\n"
     ]
    }
   ],
   "source": [
    "def is_perfect(n):\n",
    "    sum = 0\n",
    "    for i in range(1,n):\n",
    "        if n%i==0:\n",
    "            sum+=i\n",
    "    if sum==n:\n",
    "        return True\n",
    "    else:\n",
    "        return False\n",
    "        \n",
    "n = int(input(\"Enter the number: \"))\n",
    "if is_perfect(n):\n",
    "    print(\"YES\")\n",
    "else:\n",
    "    print(\"NO\")\n",
    "    "
   ]
  },
  {
   "cell_type": "markdown",
   "id": "92cd3161-cc7c-4c32-8cff-295709c57c46",
   "metadata": {},
   "source": [
    "# Write a program to check given number is strong number of not."
   ]
  },
  {
   "cell_type": "code",
   "execution_count": 77,
   "id": "6959adb1-56c1-4776-b06e-6ea33cafe448",
   "metadata": {},
   "outputs": [
    {
     "name": "stdin",
     "output_type": "stream",
     "text": [
      "Enter the number:  2\n"
     ]
    },
    {
     "name": "stdout",
     "output_type": "stream",
     "text": [
      "YES\n"
     ]
    }
   ],
   "source": [
    "def factorial(k):\n",
    "    if k==0:\n",
    "        ans = 1\n",
    "        return ans\n",
    "    else:\n",
    "        ans = 1\n",
    "        for i in range(1,k+1):\n",
    "            ans= ans*i\n",
    "        return ans\n",
    "\n",
    "def is_strong(n):\n",
    "    sum = 0\n",
    "    k = n\n",
    "    while n:\n",
    "        rem = n%10\n",
    "        sum+=factorial(rem)\n",
    "        n=n//10\n",
    "        \n",
    "    if k==sum:\n",
    "        return True\n",
    "    else:\n",
    "        return False\n",
    "n = int(input(\"Enter the number: \"))\n",
    "if is_strong(n):\n",
    "    print(\"YES\")\n",
    "else:\n",
    "    print(\"NO\")\n",
    "\n",
    "    "
   ]
  },
  {
   "cell_type": "markdown",
   "id": "bca92396-bb5d-4a48-ad12-6936f87c1eb6",
   "metadata": {},
   "source": [
    "# Write a program to Print Multiplication Tables"
   ]
  },
  {
   "cell_type": "code",
   "execution_count": 3,
   "id": "45504b59-a7bf-4482-bc69-5551d297357e",
   "metadata": {},
   "outputs": [
    {
     "name": "stdin",
     "output_type": "stream",
     "text": [
      "Enter the number:  2\n"
     ]
    },
    {
     "name": "stdout",
     "output_type": "stream",
     "text": [
      "2 * 1 = 2\n",
      "2 * 2 = 4\n",
      "2 * 3 = 6\n",
      "2 * 4 = 8\n",
      "2 * 5 = 10\n",
      "2 * 6 = 12\n",
      "2 * 7 = 14\n",
      "2 * 8 = 16\n",
      "2 * 9 = 18\n",
      "2 * 10 = 20\n"
     ]
    }
   ],
   "source": [
    "n = int(input(\"Enter the number: \"))\n",
    "for i in range(1,11):\n",
    "    print(n,\"*\",i,\"=\",n*i)"
   ]
  },
  {
   "cell_type": "markdown",
   "id": "b485d1cd-6f86-43fc-a6dc-59f187177ec2",
   "metadata": {},
   "source": [
    "# lcm and gcd"
   ]
  },
  {
   "cell_type": "code",
   "execution_count": 3,
   "id": "4a75c5eb-d4e7-498e-bc8d-286270f7a204",
   "metadata": {},
   "outputs": [
    {
     "name": "stdout",
     "output_type": "stream",
     "text": [
      "GCD of 12 and 18 is 6\n",
      "LCM of 12 and 18 is 36\n"
     ]
    }
   ],
   "source": [
    "def gcd(a, b):\n",
    "    while b != 0:\n",
    "        a, b = b, a % b\n",
    "    return a\n",
    "\n",
    "def lcm(a, b):\n",
    "    return abs(a * b) // gcd(a, b)\n",
    "\n",
    "# Example usage\n",
    "a = 12\n",
    "b = 18\n",
    "gcd_value = gcd(a, b)\n",
    "lcm_value = lcm(a, b)\n",
    "\n",
    "print(f\"GCD of {a} and {b} is {gcd_value}\")\n",
    "print(f\"LCM of {a} and {b} is {lcm_value}\")\n"
   ]
  },
  {
   "cell_type": "code",
   "execution_count": null,
   "id": "a1903be2-6e3e-461d-968e-9eaeccb2e589",
   "metadata": {},
   "outputs": [],
   "source": []
  }
 ],
 "metadata": {
  "kernelspec": {
   "display_name": "Python 3 (ipykernel)",
   "language": "python",
   "name": "python3"
  },
  "language_info": {
   "codemirror_mode": {
    "name": "ipython",
    "version": 3
   },
   "file_extension": ".py",
   "mimetype": "text/x-python",
   "name": "python",
   "nbconvert_exporter": "python",
   "pygments_lexer": "ipython3",
   "version": "3.12.4"
  }
 },
 "nbformat": 4,
 "nbformat_minor": 5
}
