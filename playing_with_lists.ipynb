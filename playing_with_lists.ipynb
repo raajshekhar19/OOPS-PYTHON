{
 "cells": [
  {
   "cell_type": "code",
   "execution_count": 3,
   "id": "c988b68b-f3e7-482e-a196-1c0a6444e088",
   "metadata": {},
   "outputs": [
    {
     "name": "stdout",
     "output_type": "stream",
     "text": [
      "[[0, 1, 2, 3, 4, 5, 6, 7, 8, 9], [0, 1, 2, 3, 4, 5, 6, 7, 8, 9], [0, 1, 2, 3, 4, 5, 6, 7, 8, 9]]\n"
     ]
    }
   ],
   "source": [
    "l = [[j for j in range(10)] for i in range(3)]\n",
    "print(l)"
   ]
  },
  {
   "cell_type": "code",
   "execution_count": 5,
   "id": "5f3c316f-6dc8-405e-ab91-d7aa0dad7a04",
   "metadata": {},
   "outputs": [
    {
     "name": "stdout",
     "output_type": "stream",
     "text": [
      "21\n",
      "[1, 2, 4, 5]\n"
     ]
    }
   ],
   "source": [
    "#multidim-arr\n",
    "l3 = [21,34,'abh',[1,2,4,5]]\n",
    "print(l3[0])\n",
    "print(l3[3])"
   ]
  },
  {
   "cell_type": "code",
   "execution_count": 11,
   "id": "c896287a-a04a-4af5-924a-40ffd02252e9",
   "metadata": {},
   "outputs": [
    {
     "name": "stdout",
     "output_type": "stream",
     "text": [
      "pand_\n"
     ]
    }
   ],
   "source": [
    "#string to a list\n",
    "a = \"linkin_park\"\n",
    "l4 = list(a)\n",
    "print(l4[-4],l4[6],sep='and')"
   ]
  },
  {
   "cell_type": "code",
   "execution_count": 13,
   "id": "d60018fa-1168-4a13-ac4c-9d1eb59d9562",
   "metadata": {},
   "outputs": [
    {
     "name": "stdout",
     "output_type": "stream",
     "text": [
      "[[[18, 7.5, 'apple'], [True, 12, 9.2], ['banana', 3, 15.7]], [[22.1, False, 'cherry'], [25, 8.3, 'date'], [5.6, 11, 'elderberry']], [[16.8, 'fig', 4], ['grape', 21.3, 13], [17, 'honeydew', 27.9]]]\n"
     ]
    }
   ],
   "source": [
    "#3-d list3*3*3  jumbled and ascess it in 3-4 ways\n",
    "# Create the 3x3x3 list with predefined values of different types\n",
    "jumbled_list = [\n",
    "    [[18, 7.5, \"apple\"], [True, 12, 9.2], [\"banana\", 3, 15.7]],\n",
    "    [[22.1, False, \"cherry\"], [25, 8.3, \"date\"], [5.6, 11, \"elderberry\"]],\n",
    "    [[16.8, \"fig\", 4], [\"grape\", 21.3, 13], [17, \"honeydew\", 27.9]]\n",
    "]\n",
    "print(jumbled_list)\n"
   ]
  },
  {
   "cell_type": "code",
   "execution_count": null,
   "id": "6d9636ce-9939-4006-ba8d-94b3897750f0",
   "metadata": {},
   "outputs": [],
   "source": []
  },
  {
   "cell_type": "code",
   "execution_count": 40,
   "id": "420051b6-478e-461c-b127-2e33fba8b1a4",
   "metadata": {},
   "outputs": [
    {
     "name": "stdout",
     "output_type": "stream",
     "text": [
      "[1, 2, 3, 4, 5, 6, 7, 8, 9]\n",
      "Index 2 DELETED\n",
      "[1, 2, 4, 5, 6, 7, 8, 9]\n"
     ]
    }
   ],
   "source": [
    "#append is single element at end\n",
    "#extend understands a string as multiple elements breaks into a list and then appends\n",
    "\n",
    "lst = [1,2,3,4,5,6,7,8,9]\n",
    "print(lst)\n",
    "del lst[2]\n",
    "print(\"Index 2 DELETED\")\n",
    "print(lst)\n"
   ]
  },
  {
   "cell_type": "code",
   "execution_count": 44,
   "id": "ca24969b-ec41-4482-87eb-fee83936e21c",
   "metadata": {},
   "outputs": [
    {
     "name": "stdout",
     "output_type": "stream",
     "text": [
      "[4, 2, 6, 10, 3]\n",
      "[2, 3, 4, 6, 10]\n",
      "[10, 6, 4, 3, 2]\n"
     ]
    }
   ],
   "source": [
    "l1 = [4,2,6,10,3]\n",
    "print(l1)\n",
    "l1.sort()\n",
    "print(l1)\n",
    "l1.sort(reverse=True)\n",
    "print(l1)"
   ]
  },
  {
   "cell_type": "code",
   "execution_count": null,
   "id": "eb196911-7478-4907-935f-bad6b92d12f0",
   "metadata": {},
   "outputs": [],
   "source": []
  }
 ],
 "metadata": {
  "kernelspec": {
   "display_name": "Python 3 (ipykernel)",
   "language": "python",
   "name": "python3"
  },
  "language_info": {
   "codemirror_mode": {
    "name": "ipython",
    "version": 3
   },
   "file_extension": ".py",
   "mimetype": "text/x-python",
   "name": "python",
   "nbconvert_exporter": "python",
   "pygments_lexer": "ipython3",
   "version": "3.12.4"
  }
 },
 "nbformat": 4,
 "nbformat_minor": 5
}
